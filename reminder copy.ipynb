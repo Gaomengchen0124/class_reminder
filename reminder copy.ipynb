{
 "cells": [
  {
   "cell_type": "code",
   "execution_count": 23,
   "id": "3be38a0f",
   "metadata": {},
   "outputs": [
    {
     "name": "stdout",
     "output_type": "stream",
     "text": [
      "2025-10-16 09:50:00\n",
      "2025-10-16 15:58:51.997994\n"
     ]
    }
   ],
   "source": [
    "import smtplib\n",
    "from email.mime.text import MIMEText\n",
    "from email.header import Header\n",
    "import pandas as pd\n",
    "import time\n",
    "%run schedule_reader.ipynb\n",
    "raw_courses=read_schedule()\n",
    "print(pd.Timestamp(raw_courses[0]['class_time_str']))\n",
    "print(pd.Timestamp.now())"
   ]
  },
  {
   "cell_type": "code",
   "execution_count": 24,
   "id": "8fc8955a",
   "metadata": {},
   "outputs": [],
   "source": [
    "# --- 邮件配置 ---\n",
    "# SMTP 服务器配置\n",
    "smtp_server = 'smtp.qq.com'  # 例如: smtp.qq.com\n",
    "smtp_port = 465              # SSL 端口\n",
    "# 发件人账户信息\n",
    "sender_email = '2200355981@qq.com'      # 你的邮箱地址\n",
    "sender_password = 'abcdefghijklmn'     # 你的邮箱授权码，而不是登录密码！"
   ]
  },
  {
   "cell_type": "code",
   "execution_count": 25,
   "id": "5a2bd39e",
   "metadata": {},
   "outputs": [],
   "source": [
    "def send_reminder(receiver_email, course_name, class_time_str, location):\n",
    "    message = MIMEText(\n",
    "        f'【课程名称】{course_name}'\n",
    "        f'【课程时间】{class_time_str}'\n",
    "        f'【课程地点】{location}'\n",
    "    )\n",
    "    message['From'] = Header(sender_email)\n",
    "    message['To'] = Header(receiver_email)\n",
    "    message['Subject'] = Header(f'【课程提醒】{course_name}{class_time_str}{location}')\n",
    "\n",
    "    try:\n",
    "        server = smtplib.SMTP('smtp.qq.com', 465)\n",
    "        server.starttls()\n",
    "        server.login(sender_email, sender_password)\n",
    "        server.sendmail(sender_email, receiver_email, message.as_string())\n",
    "        print('邮件发送成功')\n",
    "    except smtplib.SMTPException as e:\n",
    "        print(f'邮件发送失败: {e}')\n",
    "    finally:\n",
    "        server.quit()"
   ]
  },
  {
   "cell_type": "code",
   "execution_count": 26,
   "id": "37cbccc7",
   "metadata": {},
   "outputs": [],
   "source": [
    "receiver_email = '10244801409@stu.ecnu.edu.cn'      # 在这填写接收reminder的邮箱\n",
    "check_interval = 60     #设定检查时间\n",
    "def time_checker(check_interval, raw_courses):\n",
    "    while True:\n",
    "        for x in raw_courses:\n",
    "            if pd.Timestamp.now() >= pd.Timestamp(x['class_time_str']) - pd.Timedelta(minutes=10) and not x['is_reminded']:\n",
    "                send_reminder(receiver_email, x['course_name'], x['class_time_str'], x['location'])\n",
    "        time.sleep(check_interval)"
   ]
  }
 ],
 "metadata": {
  "kernelspec": {
   "display_name": ".venv",
   "language": "python",
   "name": "python3"
  },
  "language_info": {
   "codemirror_mode": {
    "name": "ipython",
    "version": 3
   },
   "file_extension": ".py",
   "mimetype": "text/x-python",
   "name": "python",
   "nbconvert_exporter": "python",
   "pygments_lexer": "ipython3",
   "version": "3.13.0"
  }
 },
 "nbformat": 4,
 "nbformat_minor": 5
}
