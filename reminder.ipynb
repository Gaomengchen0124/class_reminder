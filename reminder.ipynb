{
 "cells": [
  {
   "cell_type": "code",
   "execution_count": 5,
   "id": "3be38a0f",
   "metadata": {},
   "outputs": [],
   "source": [
    "import smtplib\n",
    "from email.mime.text import MIMEText\n",
    "from email.header import Header\n",
    "import pandas as pd\n",
    "import time\n",
    "%run schedule_reader.ipynb"
   ]
  },
  {
   "cell_type": "code",
   "execution_count": null,
   "id": "8fc8955a",
   "metadata": {},
   "outputs": [],
   "source": [
    "'''# --- 邮件配置 ---\n",
    "# SMTP 服务器配置\n",
    "smtp_server = 'smtp.qq.com'  # 例如: smtp.qq.com\n",
    "smtp_port = 465              # SSL 端口\n",
    "# 发件人账户信息\n",
    "sender_email = '2200355981@qq.com'      # 你的邮箱地址\n",
    "sender_password = 'abcdefghijklmn'     # 你的邮箱授权码，而不是登录密码！'''\n",
    "#配置区域#\n",
    "REMINDER_CONFIG = {\n",
    "    \"smtp_server\": \"smtp.qq.com\",\n",
    "    \"smtp_port\": 465,\n",
    "    \"sender_email\": \"2200355981@qq.com\",\n",
    "    \"sender_password\": \"hswdypyrmvjxdjia\",\n",
    "    \"receiver_email\": \"10244801409@stu.ecnu.edu.cn\",  # 接收提醒的邮箱\n",
    "    \"check_interval\": 60                           # 定时检查间隔（秒）\n",
    "}"
   ]
  },
  {
   "cell_type": "code",
   "execution_count": null,
   "id": "5a2bd39e",
   "metadata": {},
   "outputs": [],
   "source": [
    "def send_reminder(receiver_email, course_name, class_time_str, location):\n",
    "    sender_email = REMINDER_CONFIG[\"sender_email\"]\n",
    "    sender_password = REMINDER_CONFIG[\"sender_password\"]\n",
    "    smtp_server = REMINDER_CONFIG[\"smtp_server\"]\n",
    "    smtp_port = REMINDER_CONFIG[\"smtp_port\"]\n",
    "\n",
    "    message = MIMEText(\n",
    "        f'【课程名称】{course_name}\\n'\n",
    "        f'【课程时间】{class_time_str}\\n'\n",
    "        f'【课程地点】{location}'\n",
    "    )\n",
    "    message['From'] = Header(sender_email)\n",
    "    message['To'] = Header(receiver_email)\n",
    "    message['Subject'] = Header(f'【课程提醒】{course_name}{class_time_str}{location}')\n",
    "\n",
    "    server = None\n",
    "    try:\n",
    "        '''server = smtplib.SMTP('smtp.qq.com', 465)\n",
    "        server.starttls()'''\n",
    "        server = smtplib.SMTP_SSL(smtp_server, smtp_port)\n",
    "        server.login(sender_email, sender_password)\n",
    "        server.sendmail(sender_email, receiver_email, message.as_string())\n",
    "        print('邮件发送成功')\n",
    "    except smtplib.SMTPAuthenticationError:\n",
    "        print(f'邮件发送失败（{course_name}）：邮箱或授权码错误')\n",
    "    except smtplib.SMTPConnectError:\n",
    "        print(f'邮件发送失败（{course_name}）：无法连接到服务器，请检查SMTP地址和端口')\n",
    "    except Exception as e:\n",
    "        print(f'邮件发送失败: {e}')\n",
    "    finally:\n",
    "        if server is not None:\n",
    "                server.quit()\n"
   ]
  },
  {
   "cell_type": "code",
   "execution_count": null,
   "id": "37cbccc7",
   "metadata": {},
   "outputs": [],
   "source": [
    "def time_checker(check_interval, raw_courses):\n",
    "    receiver_email = REMINDER_CONFIG['receiver_email']\n",
    "    while True:\n",
    "        current_time = pd.Timestamp.now().tz_localize(None)\n",
    "        current_weekday = current_time.day_name(locale='zh_CN')\n",
    "        for x in raw_courses:\n",
    "            if x['weekday'] != current_weekday:\n",
    "                continue\n",
    "            class_time = pd.Timestamp(x['class_time_str'])\n",
    "            remind_start = class_time - pd.Timedelta(minutes=10)\n",
    "            if (remind_start <= current_time <= class_time and not x['is_reminded']):\n",
    "                send_reminder(receiver_email, x['course_name'], x['class_time_str'], x['location'])\n",
    "                x['is_reminded'] = True\n",
    "        time.sleep(check_interval)\n",
    "\n",
    "#current_time = pd.Timestamp.now()生成的时间可能是带时区的，表格里读取后生成的没有，会导致报错Cannot compare tz-naive and tz-aware timestamps"
   ]
  }
 ],
 "metadata": {
  "kernelspec": {
   "display_name": ".venv",
   "language": "python",
   "name": "python3"
  },
  "language_info": {
   "codemirror_mode": {
    "name": "ipython",
    "version": 3
   },
   "file_extension": ".py",
   "mimetype": "text/x-python",
   "name": "python",
   "nbconvert_exporter": "python",
   "pygments_lexer": "ipython3",
   "version": "3.13.0"
  }
 },
 "nbformat": 4,
 "nbformat_minor": 5
}
