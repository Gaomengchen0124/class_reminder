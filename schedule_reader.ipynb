{
 "cells": [
  {
   "cell_type": "markdown",
   "id": "cecc4a96",
   "metadata": {},
   "source": [
    "### 课程表读取模块:实现 Excel文件读取、数据校验、日期格式转换，返回结构化的课程数据。"
   ]
  },
  {
   "cell_type": "markdown",
   "id": "2e53eb18",
   "metadata": {},
   "source": [
    "#### 课程信息样例如下\n",
    "##### 数字逻辑\n",
    "##### 教学班代码：SE1203.03\n",
    "##### (2~17周) (3-4节 9:50-11:25) 普陀校区 教书院423  曹gt"
   ]
  },
  {
   "cell_type": "code",
   "execution_count": null,
   "id": "346c5c35",
   "metadata": {},
   "outputs": [
    {
     "name": "stdout",
     "output_type": "stream",
     "text": [
      "[{'weekday': '星期一', 'course_name': '数字逻辑', 'class_time_str': '9:50-11:25', 'location': '未知地点', 'weeks': [], 'is_reminded': False}, {'weekday': '星期一', 'course_name': '计算机编程语言', 'class_time_str': '13:00-15:35', 'location': '未知地点', 'weeks': [], 'is_reminded': False}, {'weekday': '星期一', 'course_name': '线性代数A', 'class_time_str': '18:00-20:25', 'location': '未知地点', 'weeks': [], 'is_reminded': False}, {'weekday': '星期二', 'course_name': '数字逻辑实践', 'class_time_str': '9:50-11:25', 'location': '未知地点', 'weeks': [], 'is_reminded': False}, {'weekday': '星期三', 'course_name': '体育与健康--太极拳（初）', 'class_time_str': '8:00-9:35', 'location': '未知地点', 'weeks': [], 'is_reminded': False}, {'weekday': '星期三', 'course_name': '消费者行为', 'class_time_str': '14:50-17:15', 'location': '未知地点', 'weeks': [], 'is_reminded': False}, {'weekday': '星期四', 'course_name': '概率论与数理统计B', 'class_time_str': '8:00-10:35', 'location': '未知地点', 'weeks': [], 'is_reminded': False}, {'weekday': '星期四', 'course_name': '财务管理', 'class_time_str': '13:50-16:25', 'location': '未知地点', 'weeks': [], 'is_reminded': False}, {'weekday': '星期四', 'course_name': '马克思主义基本原理', 'class_time_str': '18:00-20:25', 'location': '未知地点', 'weeks': [], 'is_reminded': False}, {'weekday': '星期五', 'course_name': '信息安全数学导论', 'class_time_str': '9:50-11:25', 'location': '未知地点', 'weeks': [], 'is_reminded': False}, {'weekday': '星期五', 'course_name': '人工智能理论方法', 'class_time_str': '13:00-15:35', 'location': '未知地点', 'weeks': [], 'is_reminded': False}]\n"
     ]
    }
   ],
   "source": [
    "from openpyxl import load_workbook\n",
    "\n",
    "\n",
    "def read_schedule():\n",
    "    raw_courses = []\n",
    "    try:\n",
    "        workbook = load_workbook('课程表.xlsx')\n",
    "        sheet = workbook['Sheet1']\n",
    "        weekdays = ['星期一', '星期二', '星期三', '星期四', '星期五', '星期六', '星期日']\n",
    "\n",
    "        for col_index in range(3, 8):\n",
    "            weekday = weekdays[col_index - 3]\n",
    "            for row_index in range(2, 45):\n",
    "                cell = sheet.cell(row=row_index, column=col_index)\n",
    "                if cell.value:\n",
    "                    if cell.coordinate in sheet.merged_cells: # 这一大坨是读取合并单元格\n",
    "                        for merged_range in sheet.merged_cells.ranges:\n",
    "                            if cell.coordinate in merged_range:\n",
    "                                cell = merged_range.start_cell\n",
    "\n",
    "                    course_info = cell.value.split('\\n')\n",
    "                    if len(course_info) >= 3:\n",
    "                        course_name = course_info[0]\n",
    "\n",
    "                        # 时间是列表里第3个元素的第二个括号内内容的换行符后面内容\n",
    "                        time_info = course_info[2]\n",
    "                        left_brackets = [i for i, char in enumerate(time_info) if char == '(']\n",
    "                        right_brackets = [i for i, char in enumerate(time_info) if char == ')']\n",
    "                        if len(left_brackets) >= 2 and len(right_brackets) >= 2 and left_brackets[1] < right_brackets[1]:\n",
    "                            raw_time_str = time_info[left_brackets[1] + 1: right_brackets[1]]\n",
    "                        else:\n",
    "                            print(\"未找到时间信息\")\n",
    "                        time_index = raw_time_str.find(\" \")\n",
    "                        raw_class_time_str = raw_time_str[time_index+1:]\n",
    "                        class_time_str = raw_class_time_str.split(\"-\")[0]\n",
    "\n",
    "\n",
    "                        # 去除时间部分，解析地点\n",
    "                        if len(right_brackets) >= 2:\n",
    "                            after_second_bracket = time_info[right_brackets[1]+1:].strip()\n",
    "                            location = after_second_bracket.split()[1]\n",
    "                        else:\n",
    "                            location = \"未知地点\"\n",
    "\n",
    "                        raw_courses.append({\n",
    "                                'weekday': weekday,\n",
    "                                'course_name': course_name,\n",
    "                                'class_time_str': class_time_str,\n",
    "                                'location': location,\n",
    "                                'weeks': [],\n",
    "                                'is_reminded': False\n",
    "                            })\n",
    "\n",
    "        return raw_courses\n",
    "    except FileNotFoundError:\n",
    "        print(f\" 错误：未找到课程表文件\")\n",
    "        return []\n",
    "    except Exception as e:\n",
    "        print(f\" 课程表读取失败：{str(e)}\")\n",
    "        return []"
   ]
  },
  {
   "cell_type": "markdown",
   "id": "31d2dc9a",
   "metadata": {},
   "source": []
  }
 ],
 "metadata": {
  "kernelspec": {
   "display_name": ".venv",
   "language": "python",
   "name": "python3"
  },
  "language_info": {
   "codemirror_mode": {
    "name": "ipython",
    "version": 3
   },
   "file_extension": ".py",
   "mimetype": "text/x-python",
   "name": "python",
   "nbconvert_exporter": "python",
   "pygments_lexer": "ipython3",
   "version": "3.13.0"
  }
 },
 "nbformat": 4,
 "nbformat_minor": 5
}
