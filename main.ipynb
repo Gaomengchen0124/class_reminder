{
 "cells": [
  {
   "cell_type": "code",
   "execution_count": null,
   "id": "5281e58b",
   "metadata": {},
   "outputs": [
    {
     "name": "stdout",
     "output_type": "stream",
     "text": [
      "正在读取课程表...\n",
      "成功读取 11 门课程\n",
      "启动定时提醒（间隔 60 秒）...\n",
      "按 Ctrl+C 可停止程序\n",
      "邮件发送成功\n"
     ]
    },
    {
     "ename": "KeyboardInterrupt",
     "evalue": "",
     "output_type": "error",
     "traceback": [
      "\u001b[31m---------------------------------------------------------------------------\u001b[39m",
      "\u001b[31mKeyboardInterrupt\u001b[39m                         Traceback (most recent call last)",
      "\u001b[36mCell\u001b[39m\u001b[36m \u001b[39m\u001b[32mIn[9]\u001b[39m\u001b[32m, line 28\u001b[39m\n\u001b[32m     26\u001b[39m         \u001b[38;5;28mprint\u001b[39m(\u001b[33mf\u001b[39m\u001b[33m\"\u001b[39m\u001b[33m启动定时提醒（间隔 \u001b[39m\u001b[38;5;132;01m{\u001b[39;00mREMINDER_CONFIG[\u001b[33m'\u001b[39m\u001b[33mcheck_interval\u001b[39m\u001b[33m'\u001b[39m]\u001b[38;5;132;01m}\u001b[39;00m\u001b[33m 秒）...\u001b[39m\u001b[33m\"\u001b[39m)\n\u001b[32m     27\u001b[39m         \u001b[38;5;28mprint\u001b[39m(\u001b[33m\"\u001b[39m\u001b[33m按 Ctrl+C 可停止程序\u001b[39m\u001b[33m\"\u001b[39m)\n\u001b[32m---> \u001b[39m\u001b[32m28\u001b[39m         \u001b[43mtime_checker\u001b[49m\u001b[43m(\u001b[49m\n\u001b[32m     29\u001b[39m \u001b[43m            \u001b[49m\u001b[43mcheck_interval\u001b[49m\u001b[43m=\u001b[49m\u001b[43mREMINDER_CONFIG\u001b[49m\u001b[43m[\u001b[49m\u001b[33;43m\"\u001b[39;49m\u001b[33;43mcheck_interval\u001b[39;49m\u001b[33;43m\"\u001b[39;49m\u001b[43m]\u001b[49m\u001b[43m,\u001b[49m\n\u001b[32m     30\u001b[39m \u001b[43m            \u001b[49m\u001b[43mraw_courses\u001b[49m\u001b[43m=\u001b[49m\u001b[43mraw_courses\u001b[49m\n\u001b[32m     31\u001b[39m \u001b[43m        \u001b[49m\u001b[43m)\u001b[49m\n\u001b[32m     33\u001b[39m \u001b[38;5;28;01mexcept\u001b[39;00m \u001b[38;5;167;01mException\u001b[39;00m \u001b[38;5;28;01mas\u001b[39;00m e:\n\u001b[32m     34\u001b[39m     \u001b[38;5;28mprint\u001b[39m(\u001b[33mf\u001b[39m\u001b[33m\"\u001b[39m\u001b[33m程序启动失败：\u001b[39m\u001b[38;5;132;01m{\u001b[39;00m\u001b[38;5;28mstr\u001b[39m(e)\u001b[38;5;132;01m}\u001b[39;00m\u001b[33m\"\u001b[39m)\n",
      "\u001b[36mFile \u001b[39m\u001b[32m~\\AppData\\Local\\Temp\\ipykernel_33104\\3642119840.py:14\u001b[39m, in \u001b[36mtime_checker\u001b[39m\u001b[34m(check_interval, raw_courses)\u001b[39m\n\u001b[32m     12\u001b[39m         send_reminder(receiver_email, x[\u001b[33m'\u001b[39m\u001b[33mcourse_name\u001b[39m\u001b[33m'\u001b[39m], x[\u001b[33m'\u001b[39m\u001b[33mclass_time_str\u001b[39m\u001b[33m'\u001b[39m], x[\u001b[33m'\u001b[39m\u001b[33mlocation\u001b[39m\u001b[33m'\u001b[39m])\n\u001b[32m     13\u001b[39m         x[\u001b[33m'\u001b[39m\u001b[33mis_reminded\u001b[39m\u001b[33m'\u001b[39m] = \u001b[38;5;28;01mTrue\u001b[39;00m\n\u001b[32m---> \u001b[39m\u001b[32m14\u001b[39m \u001b[43mtime\u001b[49m\u001b[43m.\u001b[49m\u001b[43msleep\u001b[49m\u001b[43m(\u001b[49m\u001b[43mcheck_interval\u001b[49m\u001b[43m)\u001b[49m\n",
      "\u001b[31mKeyboardInterrupt\u001b[39m: "
     ]
    }
   ],
   "source": [
    "%run schedule_reader.ipynb\n",
    "%run reminder.ipynb\n",
    "\n",
    "#配置区域#\n",
    "REMINDER_CONFIG = {\n",
    "    \"smtp_server\": \"smtp.qq.com\",\n",
    "    \"smtp_port\": 465,\n",
    "    \"sender_email\": \"2200355981@qq.com\",        #你的qq邮箱，用来发送提醒\n",
    "    \"sender_password\": \"hswdypyrmvjxdjia\",      #邮箱的授权码，首页-设置-账号-POP3/IMAP/SMTP/Exchange/CardDAV/CalDAV服务\n",
    "    \"receiver_email\": \"10244801409@stu.ecnu.edu.cn\",  # 接收提醒的邮箱\n",
    "    \"check_interval\": 60                           # 定时检查间隔（秒）\n",
    "}\n",
    "\n",
    "\n",
    "if __name__ == \"__main__\":\n",
    "    try:\n",
    "        print(\"正在读取课程表...\")\n",
    "        raw_courses = read_schedule()\n",
    "        \n",
    "        if not raw_courses:\n",
    "            print(\"未读取到课程数据，程序退出\")\n",
    "        else:\n",
    "            print(f\"成功读取 {len(raw_courses)} 门课程\")\n",
    "            \n",
    "            print(f\"启动定时提醒（间隔 {REMINDER_CONFIG['check_interval']} 秒）...\")\n",
    "            print(\"按 Ctrl+C 可停止程序\")\n",
    "            time_checker(\n",
    "                check_interval=REMINDER_CONFIG[\"check_interval\"],\n",
    "                raw_courses=raw_courses\n",
    "            )\n",
    "    \n",
    "    except Exception as e:\n",
    "        print(f\"程序启动失败：{str(e)}\")"
   ]
  }
 ],
 "metadata": {
  "kernelspec": {
   "display_name": ".venv",
   "language": "python",
   "name": "python3"
  },
  "language_info": {
   "codemirror_mode": {
    "name": "ipython",
    "version": 3
   },
   "file_extension": ".py",
   "mimetype": "text/x-python",
   "name": "python",
   "nbconvert_exporter": "python",
   "pygments_lexer": "ipython3",
   "version": "3.13.0"
  }
 },
 "nbformat": 4,
 "nbformat_minor": 5
}
